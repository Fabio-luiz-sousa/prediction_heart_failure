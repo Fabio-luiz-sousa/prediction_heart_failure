{
 "cells": [
  {
   "cell_type": "markdown",
   "metadata": {},
   "source": [
    "<p align=\"center\" style=\"font-size:50px\">Prediction Heart Failure</p>\n",
    "<p align=\"center\" style=\"font-size:30px\">Exploratory Data Analysis</p>\n",
    "<p align=\"center\">In this step, will be make a EDA for help understand better the dataset and help a make the modeling later.</p>"
   ]
  },
  {
   "cell_type": "markdown",
   "metadata": {},
   "source": [
    "### About Dataset\n",
    "This dataset contains the medical records of 299 patients who had heart failure, collected during their follow-up period, where each patient profile has 13 clinical features."
   ]
  },
  {
   "cell_type": "markdown",
   "metadata": {},
   "source": [
    "### Structure of Dataset\n",
    "- `age`: Age of the patient\n",
    "- `anaemia`: Decrease of red blood cells or hemoglobin\n",
    "- `creatinine_phosphokinase`: Level of the CPK enzyme in the blood (mcg/l)\n",
    "- `diabetes`: If the patient has diabetes\n",
    "- `ejection_fraction`: Percentage of blood leaving the heart at each contraction\n",
    "- `high_blood_pressure`: If the patient has hypertension\n",
    "- `platelets`: Platelets in the blood (kiloplatelets/mL)\n",
    "- `serum_creatinine`: Level of serum creatinine in the blood (mg/dL)\n",
    "- `serum_sodium`: Level of serum sodium in the blood (mEq/L)\n",
    "- `sex`: Woman or man\n",
    "- `smoking`: If the patient smokes or not\n",
    "- `time`: Follow-up period (days)\n",
    "- `death_event`: If the patient died during the follow-up period"
   ]
  },
  {
   "cell_type": "code",
   "execution_count": 1,
   "metadata": {},
   "outputs": [],
   "source": [
    "#import libraries\n",
    "import pandas as pd\n",
    "import numpy as np\n",
    "import plotly.graph_objects as go\n",
    "import plotly.figure_factory as ff\n",
    "from plotly.subplots import make_subplots"
   ]
  },
  {
   "cell_type": "code",
   "execution_count": 2,
   "metadata": {},
   "outputs": [],
   "source": [
    "# load dataset\n",
    "df = pd.read_csv('../data/heart_failure_clinical_records_dataset.csv')"
   ]
  },
  {
   "cell_type": "markdown",
   "metadata": {},
   "source": [
    "### Understanding Data"
   ]
  },
  {
   "cell_type": "code",
   "execution_count": 3,
   "metadata": {},
   "outputs": [
    {
     "name": "stdout",
     "output_type": "stream",
     "text": [
      "This dataset contains:\n",
      "299 rows and 13 columns.\n"
     ]
    }
   ],
   "source": [
    "print(f'This dataset contains:\\n{df.shape[0]} rows and {df.shape[1]} columns.')"
   ]
  },
  {
   "cell_type": "code",
   "execution_count": 4,
   "metadata": {},
   "outputs": [
    {
     "data": {
      "text/html": [
       "<div>\n",
       "<style scoped>\n",
       "    .dataframe tbody tr th:only-of-type {\n",
       "        vertical-align: middle;\n",
       "    }\n",
       "\n",
       "    .dataframe tbody tr th {\n",
       "        vertical-align: top;\n",
       "    }\n",
       "\n",
       "    .dataframe thead th {\n",
       "        text-align: right;\n",
       "    }\n",
       "</style>\n",
       "<table border=\"1\" class=\"dataframe\">\n",
       "  <thead>\n",
       "    <tr style=\"text-align: right;\">\n",
       "      <th></th>\n",
       "      <th>age</th>\n",
       "      <th>anaemia</th>\n",
       "      <th>creatinine_phosphokinase</th>\n",
       "      <th>diabetes</th>\n",
       "      <th>ejection_fraction</th>\n",
       "      <th>high_blood_pressure</th>\n",
       "      <th>platelets</th>\n",
       "      <th>serum_creatinine</th>\n",
       "      <th>serum_sodium</th>\n",
       "      <th>sex</th>\n",
       "      <th>smoking</th>\n",
       "      <th>time</th>\n",
       "      <th>DEATH_EVENT</th>\n",
       "    </tr>\n",
       "  </thead>\n",
       "  <tbody>\n",
       "    <tr>\n",
       "      <th>0</th>\n",
       "      <td>75.0</td>\n",
       "      <td>0</td>\n",
       "      <td>582</td>\n",
       "      <td>0</td>\n",
       "      <td>20</td>\n",
       "      <td>1</td>\n",
       "      <td>265000.00</td>\n",
       "      <td>1.9</td>\n",
       "      <td>130</td>\n",
       "      <td>1</td>\n",
       "      <td>0</td>\n",
       "      <td>4</td>\n",
       "      <td>1</td>\n",
       "    </tr>\n",
       "    <tr>\n",
       "      <th>1</th>\n",
       "      <td>55.0</td>\n",
       "      <td>0</td>\n",
       "      <td>7861</td>\n",
       "      <td>0</td>\n",
       "      <td>38</td>\n",
       "      <td>0</td>\n",
       "      <td>263358.03</td>\n",
       "      <td>1.1</td>\n",
       "      <td>136</td>\n",
       "      <td>1</td>\n",
       "      <td>0</td>\n",
       "      <td>6</td>\n",
       "      <td>1</td>\n",
       "    </tr>\n",
       "    <tr>\n",
       "      <th>2</th>\n",
       "      <td>65.0</td>\n",
       "      <td>0</td>\n",
       "      <td>146</td>\n",
       "      <td>0</td>\n",
       "      <td>20</td>\n",
       "      <td>0</td>\n",
       "      <td>162000.00</td>\n",
       "      <td>1.3</td>\n",
       "      <td>129</td>\n",
       "      <td>1</td>\n",
       "      <td>1</td>\n",
       "      <td>7</td>\n",
       "      <td>1</td>\n",
       "    </tr>\n",
       "    <tr>\n",
       "      <th>3</th>\n",
       "      <td>50.0</td>\n",
       "      <td>1</td>\n",
       "      <td>111</td>\n",
       "      <td>0</td>\n",
       "      <td>20</td>\n",
       "      <td>0</td>\n",
       "      <td>210000.00</td>\n",
       "      <td>1.9</td>\n",
       "      <td>137</td>\n",
       "      <td>1</td>\n",
       "      <td>0</td>\n",
       "      <td>7</td>\n",
       "      <td>1</td>\n",
       "    </tr>\n",
       "    <tr>\n",
       "      <th>4</th>\n",
       "      <td>65.0</td>\n",
       "      <td>1</td>\n",
       "      <td>160</td>\n",
       "      <td>1</td>\n",
       "      <td>20</td>\n",
       "      <td>0</td>\n",
       "      <td>327000.00</td>\n",
       "      <td>2.7</td>\n",
       "      <td>116</td>\n",
       "      <td>0</td>\n",
       "      <td>0</td>\n",
       "      <td>8</td>\n",
       "      <td>1</td>\n",
       "    </tr>\n",
       "  </tbody>\n",
       "</table>\n",
       "</div>"
      ],
      "text/plain": [
       "    age  anaemia  creatinine_phosphokinase  diabetes  ejection_fraction  \\\n",
       "0  75.0        0                       582         0                 20   \n",
       "1  55.0        0                      7861         0                 38   \n",
       "2  65.0        0                       146         0                 20   \n",
       "3  50.0        1                       111         0                 20   \n",
       "4  65.0        1                       160         1                 20   \n",
       "\n",
       "   high_blood_pressure  platelets  serum_creatinine  serum_sodium  sex  \\\n",
       "0                    1  265000.00               1.9           130    1   \n",
       "1                    0  263358.03               1.1           136    1   \n",
       "2                    0  162000.00               1.3           129    1   \n",
       "3                    0  210000.00               1.9           137    1   \n",
       "4                    0  327000.00               2.7           116    0   \n",
       "\n",
       "   smoking  time  DEATH_EVENT  \n",
       "0        0     4            1  \n",
       "1        0     6            1  \n",
       "2        1     7            1  \n",
       "3        0     7            1  \n",
       "4        0     8            1  "
      ]
     },
     "execution_count": 4,
     "metadata": {},
     "output_type": "execute_result"
    }
   ],
   "source": [
    "# First five rows\n",
    "df.head()"
   ]
  },
  {
   "cell_type": "code",
   "execution_count": 5,
   "metadata": {},
   "outputs": [
    {
     "data": {
      "text/plain": [
       "Index(['age', 'anaemia', 'creatinine_phosphokinase', 'diabetes',\n",
       "       'ejection_fraction', 'high_blood_pressure', 'platelets',\n",
       "       'serum_creatinine', 'serum_sodium', 'sex', 'smoking', 'time',\n",
       "       'DEATH_EVENT'],\n",
       "      dtype='object')"
      ]
     },
     "execution_count": 5,
     "metadata": {},
     "output_type": "execute_result"
    }
   ],
   "source": [
    "# columns of dataset\n",
    "df.columns"
   ]
  },
  {
   "cell_type": "code",
   "execution_count": 6,
   "metadata": {},
   "outputs": [
    {
     "name": "stdout",
     "output_type": "stream",
     "text": [
      "<class 'pandas.core.frame.DataFrame'>\n",
      "RangeIndex: 299 entries, 0 to 298\n",
      "Data columns (total 13 columns):\n",
      " #   Column                    Non-Null Count  Dtype  \n",
      "---  ------                    --------------  -----  \n",
      " 0   age                       299 non-null    float64\n",
      " 1   anaemia                   299 non-null    int64  \n",
      " 2   creatinine_phosphokinase  299 non-null    int64  \n",
      " 3   diabetes                  299 non-null    int64  \n",
      " 4   ejection_fraction         299 non-null    int64  \n",
      " 5   high_blood_pressure       299 non-null    int64  \n",
      " 6   platelets                 299 non-null    float64\n",
      " 7   serum_creatinine          299 non-null    float64\n",
      " 8   serum_sodium              299 non-null    int64  \n",
      " 9   sex                       299 non-null    int64  \n",
      " 10  smoking                   299 non-null    int64  \n",
      " 11  time                      299 non-null    int64  \n",
      " 12  DEATH_EVENT               299 non-null    int64  \n",
      "dtypes: float64(3), int64(10)\n",
      "memory usage: 30.5 KB\n"
     ]
    }
   ],
   "source": [
    "# check null value counts and datatype of columns\n",
    "df.info()"
   ]
  },
  {
   "cell_type": "markdown",
   "metadata": {},
   "source": [
    "- This dataset contains only one category feature that is sex, but this feature has already been encoded being 0 woman and 1 man. However, this encoding doesn't make sense, then later in the modeling step it will be change.\n",
    "- There are no null values"
   ]
  },
  {
   "cell_type": "code",
   "execution_count": 7,
   "metadata": {},
   "outputs": [],
   "source": [
    "df['sex'] = df['sex'].astype('object')"
   ]
  },
  {
   "cell_type": "code",
   "execution_count": 8,
   "metadata": {},
   "outputs": [],
   "source": [
    "df_cleaned = df.copy()\n",
    "df_cleaned['sex'] = np.where(df_cleaned['sex']==0,'woman','man')"
   ]
  },
  {
   "cell_type": "code",
   "execution_count": 9,
   "metadata": {},
   "outputs": [
    {
     "data": {
      "text/html": [
       "<div>\n",
       "<style scoped>\n",
       "    .dataframe tbody tr th:only-of-type {\n",
       "        vertical-align: middle;\n",
       "    }\n",
       "\n",
       "    .dataframe tbody tr th {\n",
       "        vertical-align: top;\n",
       "    }\n",
       "\n",
       "    .dataframe thead th {\n",
       "        text-align: right;\n",
       "    }\n",
       "</style>\n",
       "<table border=\"1\" class=\"dataframe\">\n",
       "  <thead>\n",
       "    <tr style=\"text-align: right;\">\n",
       "      <th></th>\n",
       "      <th>age</th>\n",
       "      <th>anaemia</th>\n",
       "      <th>creatinine_phosphokinase</th>\n",
       "      <th>diabetes</th>\n",
       "      <th>ejection_fraction</th>\n",
       "      <th>high_blood_pressure</th>\n",
       "      <th>platelets</th>\n",
       "      <th>serum_creatinine</th>\n",
       "      <th>serum_sodium</th>\n",
       "      <th>sex</th>\n",
       "      <th>smoking</th>\n",
       "      <th>time</th>\n",
       "      <th>DEATH_EVENT</th>\n",
       "    </tr>\n",
       "  </thead>\n",
       "  <tbody>\n",
       "    <tr>\n",
       "      <th>0</th>\n",
       "      <td>75.0</td>\n",
       "      <td>0</td>\n",
       "      <td>582</td>\n",
       "      <td>0</td>\n",
       "      <td>20</td>\n",
       "      <td>1</td>\n",
       "      <td>265000.00</td>\n",
       "      <td>1.9</td>\n",
       "      <td>130</td>\n",
       "      <td>man</td>\n",
       "      <td>0</td>\n",
       "      <td>4</td>\n",
       "      <td>1</td>\n",
       "    </tr>\n",
       "    <tr>\n",
       "      <th>1</th>\n",
       "      <td>55.0</td>\n",
       "      <td>0</td>\n",
       "      <td>7861</td>\n",
       "      <td>0</td>\n",
       "      <td>38</td>\n",
       "      <td>0</td>\n",
       "      <td>263358.03</td>\n",
       "      <td>1.1</td>\n",
       "      <td>136</td>\n",
       "      <td>man</td>\n",
       "      <td>0</td>\n",
       "      <td>6</td>\n",
       "      <td>1</td>\n",
       "    </tr>\n",
       "    <tr>\n",
       "      <th>2</th>\n",
       "      <td>65.0</td>\n",
       "      <td>0</td>\n",
       "      <td>146</td>\n",
       "      <td>0</td>\n",
       "      <td>20</td>\n",
       "      <td>0</td>\n",
       "      <td>162000.00</td>\n",
       "      <td>1.3</td>\n",
       "      <td>129</td>\n",
       "      <td>man</td>\n",
       "      <td>1</td>\n",
       "      <td>7</td>\n",
       "      <td>1</td>\n",
       "    </tr>\n",
       "    <tr>\n",
       "      <th>3</th>\n",
       "      <td>50.0</td>\n",
       "      <td>1</td>\n",
       "      <td>111</td>\n",
       "      <td>0</td>\n",
       "      <td>20</td>\n",
       "      <td>0</td>\n",
       "      <td>210000.00</td>\n",
       "      <td>1.9</td>\n",
       "      <td>137</td>\n",
       "      <td>man</td>\n",
       "      <td>0</td>\n",
       "      <td>7</td>\n",
       "      <td>1</td>\n",
       "    </tr>\n",
       "    <tr>\n",
       "      <th>4</th>\n",
       "      <td>65.0</td>\n",
       "      <td>1</td>\n",
       "      <td>160</td>\n",
       "      <td>1</td>\n",
       "      <td>20</td>\n",
       "      <td>0</td>\n",
       "      <td>327000.00</td>\n",
       "      <td>2.7</td>\n",
       "      <td>116</td>\n",
       "      <td>woman</td>\n",
       "      <td>0</td>\n",
       "      <td>8</td>\n",
       "      <td>1</td>\n",
       "    </tr>\n",
       "  </tbody>\n",
       "</table>\n",
       "</div>"
      ],
      "text/plain": [
       "    age  anaemia  creatinine_phosphokinase  diabetes  ejection_fraction  \\\n",
       "0  75.0        0                       582         0                 20   \n",
       "1  55.0        0                      7861         0                 38   \n",
       "2  65.0        0                       146         0                 20   \n",
       "3  50.0        1                       111         0                 20   \n",
       "4  65.0        1                       160         1                 20   \n",
       "\n",
       "   high_blood_pressure  platelets  serum_creatinine  serum_sodium    sex  \\\n",
       "0                    1  265000.00               1.9           130    man   \n",
       "1                    0  263358.03               1.1           136    man   \n",
       "2                    0  162000.00               1.3           129    man   \n",
       "3                    0  210000.00               1.9           137    man   \n",
       "4                    0  327000.00               2.7           116  woman   \n",
       "\n",
       "   smoking  time  DEATH_EVENT  \n",
       "0        0     4            1  \n",
       "1        0     6            1  \n",
       "2        1     7            1  \n",
       "3        0     7            1  \n",
       "4        0     8            1  "
      ]
     },
     "execution_count": 9,
     "metadata": {},
     "output_type": "execute_result"
    }
   ],
   "source": [
    "df_cleaned.head()"
   ]
  },
  {
   "cell_type": "markdown",
   "metadata": {},
   "source": [
    "### Univariate Analysis"
   ]
  },
  {
   "cell_type": "code",
   "execution_count": 10,
   "metadata": {},
   "outputs": [
    {
     "data": {
      "application/vnd.plotly.v1+json": {
       "config": {
        "plotlyServerURL": "https://plot.ly"
       },
       "data": [
        {
         "autobinx": false,
         "histnorm": "probability density",
         "legendgroup": "age",
         "marker": {
          "color": "rgb(31, 119, 180)"
         },
         "name": "age",
         "opacity": 0.7,
         "type": "histogram",
         "x": [
          75,
          55,
          65,
          50,
          65,
          90,
          75,
          60,
          65,
          80,
          75,
          62,
          45,
          50,
          49,
          82,
          87,
          45,
          70,
          48,
          65,
          65,
          68,
          53,
          75,
          80,
          95,
          70,
          58,
          82,
          94,
          85,
          50,
          50,
          65,
          69,
          90,
          82,
          60,
          60,
          70,
          50,
          70,
          72,
          60,
          50,
          51,
          60,
          80,
          57,
          68,
          53,
          60,
          70,
          60,
          95,
          70,
          60,
          49,
          72,
          45,
          50,
          55,
          45,
          45,
          60,
          42,
          72,
          70,
          65,
          41,
          58,
          85,
          65,
          69,
          60,
          70,
          42,
          75,
          55,
          70,
          67,
          60,
          79,
          59,
          51,
          55,
          65,
          44,
          57,
          70,
          60,
          42,
          60,
          58,
          58,
          63,
          70,
          60,
          63,
          65,
          75,
          80,
          42,
          60,
          72,
          55,
          45,
          63,
          45,
          85,
          55,
          50,
          70,
          60,
          58,
          60,
          85,
          65,
          86,
          60,
          66,
          60,
          60,
          60,
          43,
          46,
          58,
          61,
          53,
          53,
          60,
          46,
          63,
          81,
          75,
          65,
          68,
          62,
          50,
          80,
          46,
          50,
          61,
          72,
          50,
          52,
          64,
          75,
          60,
          72,
          62,
          50,
          50,
          65,
          60,
          52,
          50,
          85,
          59,
          66,
          45,
          63,
          50,
          45,
          80,
          53,
          59,
          65,
          70,
          51,
          52,
          70,
          50,
          65,
          60,
          69,
          49,
          63,
          55,
          40,
          59,
          65,
          75,
          58,
          60.667,
          50,
          60,
          60.667,
          40,
          80,
          64,
          50,
          73,
          45,
          77,
          45,
          65,
          50,
          60,
          63,
          45,
          70,
          60,
          78,
          50,
          40,
          85,
          60,
          49,
          70,
          50,
          78,
          48,
          65,
          73,
          70,
          54,
          68,
          55,
          73,
          65,
          42,
          47,
          58,
          75,
          58,
          55,
          65,
          72,
          60,
          70,
          40,
          53,
          53,
          77,
          75,
          70,
          65,
          55,
          70,
          65,
          40,
          73,
          54,
          61,
          55,
          64,
          40,
          53,
          50,
          55,
          50,
          70,
          53,
          52,
          65,
          58,
          45,
          53,
          55,
          62,
          65,
          68,
          61,
          50,
          55,
          56,
          45,
          40,
          44,
          51,
          67,
          42,
          60,
          45,
          70,
          70,
          50,
          55,
          70,
          70,
          42,
          65,
          50,
          55,
          60,
          45,
          65,
          90,
          45,
          60,
          52,
          63,
          62,
          55,
          45,
          45,
          50
         ],
         "xaxis": "x",
         "xbins": {
          "end": 95,
          "size": 1,
          "start": 40
         },
         "yaxis": "y"
        },
        {
         "autobinx": false,
         "histnorm": "probability density",
         "legendgroup": "creatinine_phosphokinase",
         "marker": {
          "color": "rgb(31, 119, 180)"
         },
         "name": "creatinine_phosphokinase",
         "opacity": 0.7,
         "type": "histogram",
         "x": [
          582,
          7861,
          146,
          111,
          160,
          47,
          246,
          315,
          157,
          123,
          81,
          231,
          981,
          168,
          80,
          379,
          149,
          582,
          125,
          582,
          52,
          128,
          220,
          63,
          582,
          148,
          112,
          122,
          60,
          70,
          582,
          23,
          249,
          159,
          94,
          582,
          60,
          855,
          2656,
          235,
          582,
          124,
          571,
          127,
          588,
          582,
          1380,
          582,
          553,
          129,
          577,
          91,
          3964,
          69,
          260,
          371,
          75,
          607,
          789,
          364,
          7702,
          318,
          109,
          582,
          582,
          68,
          250,
          110,
          161,
          113,
          148,
          582,
          5882,
          224,
          582,
          47,
          92,
          102,
          203,
          336,
          69,
          582,
          76,
          55,
          280,
          78,
          47,
          68,
          84,
          115,
          66,
          897,
          582,
          154,
          144,
          133,
          514,
          59,
          156,
          61,
          305,
          582,
          898,
          5209,
          53,
          328,
          748,
          1876,
          936,
          292,
          129,
          60,
          369,
          143,
          754,
          400,
          96,
          102,
          113,
          582,
          737,
          68,
          96,
          582,
          582,
          358,
          168,
          200,
          248,
          270,
          1808,
          1082,
          719,
          193,
          4540,
          582,
          59,
          646,
          281,
          1548,
          805,
          291,
          482,
          84,
          943,
          185,
          132,
          1610,
          582,
          2261,
          233,
          30,
          115,
          1846,
          335,
          231,
          58,
          250,
          910,
          129,
          72,
          130,
          582,
          2334,
          2442,
          776,
          196,
          66,
          582,
          835,
          582,
          3966,
          171,
          115,
          198,
          95,
          1419,
          69,
          122,
          835,
          478,
          176,
          395,
          99,
          145,
          104,
          582,
          1896,
          151,
          244,
          582,
          62,
          121,
          231,
          582,
          418,
          582,
          167,
          582,
          1211,
          1767,
          308,
          97,
          59,
          64,
          167,
          101,
          212,
          2281,
          972,
          212,
          582,
          224,
          131,
          135,
          582,
          1202,
          427,
          1021,
          582,
          582,
          118,
          86,
          582,
          582,
          675,
          57,
          2794,
          56,
          211,
          166,
          93,
          129,
          707,
          582,
          109,
          119,
          232,
          720,
          180,
          81,
          582,
          90,
          1185,
          582,
          80,
          2017,
          143,
          624,
          207,
          2522,
          572,
          245,
          88,
          446,
          191,
          326,
          132,
          66,
          56,
          66,
          655,
          258,
          157,
          582,
          298,
          1199,
          135,
          582,
          582,
          582,
          582,
          213,
          64,
          257,
          582,
          618,
          582,
          1051,
          84,
          2695,
          582,
          64,
          1688,
          54,
          170,
          253,
          582,
          892,
          337,
          615,
          320,
          190,
          103,
          61,
          1820,
          2060,
          2413,
          196
         ],
         "xaxis": "x2",
         "xbins": {
          "end": 7861,
          "size": 1,
          "start": 23
         },
         "yaxis": "y2"
        },
        {
         "autobinx": false,
         "histnorm": "probability density",
         "legendgroup": "ejection_fraction",
         "marker": {
          "color": "rgb(31, 119, 180)"
         },
         "name": "ejection_fraction",
         "opacity": 0.7,
         "type": "histogram",
         "x": [
          20,
          38,
          20,
          20,
          20,
          40,
          15,
          60,
          65,
          35,
          38,
          25,
          30,
          38,
          30,
          50,
          38,
          14,
          25,
          55,
          25,
          30,
          35,
          60,
          30,
          38,
          40,
          45,
          38,
          30,
          38,
          45,
          35,
          30,
          50,
          35,
          50,
          50,
          30,
          38,
          20,
          30,
          45,
          50,
          60,
          38,
          25,
          38,
          20,
          30,
          25,
          20,
          62,
          50,
          38,
          30,
          35,
          40,
          20,
          20,
          25,
          40,
          35,
          35,
          80,
          20,
          15,
          25,
          25,
          25,
          40,
          35,
          35,
          50,
          20,
          20,
          60,
          40,
          38,
          45,
          40,
          50,
          25,
          50,
          25,
          50,
          35,
          60,
          40,
          25,
          45,
          45,
          60,
          25,
          38,
          60,
          25,
          60,
          25,
          40,
          25,
          45,
          25,
          30,
          50,
          30,
          45,
          35,
          38,
          35,
          60,
          35,
          25,
          60,
          40,
          40,
          60,
          60,
          60,
          38,
          60,
          38,
          38,
          30,
          40,
          50,
          17,
          60,
          30,
          35,
          60,
          45,
          40,
          60,
          35,
          40,
          60,
          25,
          35,
          30,
          38,
          35,
          30,
          40,
          25,
          30,
          30,
          60,
          30,
          35,
          45,
          60,
          45,
          35,
          35,
          25,
          35,
          25,
          50,
          45,
          40,
          35,
          40,
          35,
          30,
          38,
          60,
          20,
          40,
          35,
          35,
          40,
          60,
          20,
          35,
          60,
          40,
          50,
          60,
          40,
          30,
          25,
          25,
          38,
          25,
          30,
          50,
          25,
          40,
          45,
          35,
          60,
          40,
          30,
          20,
          45,
          38,
          30,
          20,
          35,
          45,
          60,
          60,
          25,
          40,
          45,
          40,
          38,
          40,
          35,
          17,
          62,
          50,
          30,
          35,
          35,
          50,
          70,
          35,
          35,
          20,
          50,
          35,
          25,
          25,
          60,
          25,
          35,
          25,
          25,
          30,
          35,
          35,
          38,
          45,
          50,
          50,
          30,
          40,
          45,
          35,
          30,
          35,
          40,
          38,
          38,
          25,
          25,
          35,
          40,
          30,
          35,
          45,
          35,
          60,
          30,
          38,
          38,
          25,
          50,
          40,
          40,
          25,
          60,
          38,
          35,
          20,
          38,
          38,
          35,
          30,
          40,
          38,
          40,
          30,
          38,
          35,
          38,
          30,
          38,
          40,
          40,
          30,
          38,
          40,
          40,
          35,
          55,
          35,
          38,
          55,
          35,
          38,
          35,
          38,
          38,
          60,
          38,
          45
         ],
         "xaxis": "x3",
         "xbins": {
          "end": 80,
          "size": 1,
          "start": 14
         },
         "yaxis": "y3"
        },
        {
         "autobinx": false,
         "histnorm": "probability density",
         "legendgroup": "platelets",
         "marker": {
          "color": "rgb(31, 119, 180)"
         },
         "name": "platelets",
         "opacity": 0.7,
         "type": "histogram",
         "x": [
          265000,
          263358.03,
          162000,
          210000,
          327000,
          204000,
          127000,
          454000,
          263358.03,
          388000,
          368000,
          253000,
          136000,
          276000,
          427000,
          47000,
          262000,
          166000,
          237000,
          87000,
          276000,
          297000,
          289000,
          368000,
          263358.03,
          149000,
          196000,
          284000,
          153000,
          200000,
          263358.03,
          360000,
          319000,
          302000,
          188000,
          228000,
          226000,
          321000,
          305000,
          329000,
          263358.03,
          153000,
          185000,
          218000,
          194000,
          310000,
          271000,
          451000,
          140000,
          395000,
          166000,
          418000,
          263358.03,
          351000,
          255000,
          461000,
          223000,
          216000,
          319000,
          254000,
          390000,
          216000,
          254000,
          385000,
          263358.03,
          119000,
          213000,
          274000,
          244000,
          497000,
          374000,
          122000,
          243000,
          149000,
          266000,
          204000,
          317000,
          237000,
          283000,
          324000,
          293000,
          263358.03,
          196000,
          172000,
          302000,
          406000,
          173000,
          304000,
          235000,
          181000,
          249000,
          297000,
          263358.03,
          210000,
          327000,
          219000,
          254000,
          255000,
          318000,
          221000,
          298000,
          263358.03,
          149000,
          226000,
          286000,
          621000,
          263000,
          226000,
          304000,
          850000,
          306000,
          228000,
          252000,
          351000,
          328000,
          164000,
          271000,
          507000,
          203000,
          263358.03,
          210000,
          162000,
          228000,
          127000,
          217000,
          237000,
          271000,
          300000,
          267000,
          227000,
          249000,
          250000,
          263358.03,
          295000,
          231000,
          263358.03,
          172000,
          305000,
          221000,
          211000,
          263358.03,
          348000,
          329000,
          229000,
          338000,
          266000,
          218000,
          242000,
          225000,
          228000,
          235000,
          244000,
          184000,
          263358.03,
          235000,
          194000,
          277000,
          262000,
          235000,
          362000,
          242000,
          174000,
          448000,
          75000,
          334000,
          192000,
          220000,
          70000,
          270000,
          305000,
          263358.03,
          325000,
          176000,
          189000,
          281000,
          337000,
          105000,
          132000,
          267000,
          279000,
          303000,
          221000,
          265000,
          224000,
          219000,
          389000,
          153000,
          365000,
          201000,
          275000,
          350000,
          309000,
          260000,
          160000,
          126000,
          223000,
          263358.03,
          259000,
          279000,
          263358.03,
          73000,
          377000,
          220000,
          212000,
          277000,
          362000,
          226000,
          186000,
          283000,
          268000,
          389000,
          147000,
          481000,
          244000,
          290000,
          203000,
          358000,
          151000,
          271000,
          371000,
          263358.03,
          194000,
          365000,
          130000,
          504000,
          265000,
          189000,
          141000,
          237000,
          274000,
          62000,
          185000,
          255000,
          330000,
          305000,
          406000,
          248000,
          173000,
          257000,
          263358.03,
          533000,
          249000,
          255000,
          220000,
          264000,
          282000,
          314000,
          246000,
          301000,
          223000,
          404000,
          231000,
          274000,
          236000,
          263358.03,
          334000,
          294000,
          253000,
          233000,
          308000,
          203000,
          283000,
          198000,
          208000,
          147000,
          362000,
          263358.03,
          133000,
          302000,
          222000,
          263358.03,
          221000,
          215000,
          189000,
          150000,
          422000,
          327000,
          25100,
          232000,
          451000,
          241000,
          51000,
          215000,
          263358.03,
          279000,
          336000,
          279000,
          543000,
          263358.03,
          390000,
          222000,
          133000,
          382000,
          179000,
          155000,
          270000,
          742000,
          140000,
          395000
         ],
         "xaxis": "x4",
         "xbins": {
          "end": 850000,
          "size": 1,
          "start": 25100
         },
         "yaxis": "y4"
        },
        {
         "autobinx": false,
         "histnorm": "probability density",
         "legendgroup": "serum_creatinine",
         "marker": {
          "color": "rgb(31, 119, 180)"
         },
         "name": "serum_creatinine",
         "opacity": 0.7,
         "type": "histogram",
         "x": [
          1.9,
          1.1,
          1.3,
          1.9,
          2.7,
          2.1,
          1.2,
          1.1,
          1.5,
          9.4,
          4,
          0.9,
          1.1,
          1.1,
          1,
          1.3,
          0.9,
          0.8,
          1,
          1.9,
          1.3,
          1.6,
          0.9,
          0.8,
          1.83,
          1.9,
          1,
          1.3,
          5.8,
          1.2,
          1.83,
          3,
          1,
          1.2,
          1,
          3.5,
          1,
          1,
          2.3,
          3,
          1.83,
          1.2,
          1.2,
          1,
          1.1,
          1.9,
          0.9,
          0.6,
          4.4,
          1,
          1,
          1.4,
          6.8,
          1,
          2.2,
          2,
          2.7,
          0.6,
          1.1,
          1.3,
          1,
          2.3,
          1.1,
          1,
          1.18,
          2.9,
          1.3,
          1,
          1.2,
          1.83,
          0.8,
          0.9,
          1,
          1.3,
          1.2,
          0.7,
          0.8,
          1.2,
          0.6,
          0.9,
          1.7,
          1.18,
          2.5,
          1.8,
          1,
          0.7,
          1.1,
          0.8,
          0.7,
          1.1,
          0.8,
          1,
          1.18,
          1.7,
          0.7,
          1,
          1.3,
          1.1,
          1.2,
          1.1,
          1.1,
          1.18,
          1.1,
          1,
          2.3,
          1.7,
          1.3,
          0.9,
          1.1,
          1.3,
          1.2,
          1.2,
          1.6,
          1.3,
          1.2,
          1,
          0.7,
          3.2,
          0.9,
          1.83,
          1.5,
          1,
          0.75,
          0.9,
          3.7,
          1.3,
          2.1,
          0.8,
          0.7,
          3.4,
          0.7,
          6.1,
          1.18,
          1.3,
          1.18,
          1.18,
          0.9,
          2.1,
          1,
          0.8,
          1.1,
          0.9,
          0.9,
          0.9,
          1.7,
          0.7,
          0.7,
          1,
          1.83,
          0.9,
          2.5,
          0.9,
          0.9,
          1.18,
          0.8,
          1.7,
          1.4,
          1,
          1.3,
          1.1,
          1.2,
          0.8,
          0.9,
          0.9,
          1.1,
          1.3,
          0.7,
          2.4,
          1,
          0.8,
          1.5,
          0.9,
          1.1,
          0.8,
          0.9,
          1,
          1,
          1,
          1.2,
          0.7,
          0.9,
          1,
          1.2,
          2.5,
          1.2,
          1.5,
          0.6,
          2.1,
          1,
          0.9,
          2.1,
          1.5,
          0.7,
          1.18,
          1.6,
          1.8,
          1.18,
          0.8,
          1,
          1.8,
          0.7,
          1,
          0.9,
          3.5,
          0.7,
          1,
          0.8,
          0.9,
          1,
          0.8,
          1,
          0.8,
          1.4,
          1.6,
          0.8,
          1.3,
          0.9,
          9,
          1.1,
          0.7,
          1.83,
          1.1,
          1.1,
          0.8,
          1,
          1.4,
          1.3,
          1,
          5,
          1.2,
          1.7,
          1.1,
          0.9,
          1.4,
          1.1,
          1.1,
          1.1,
          1.2,
          1,
          1.18,
          1.3,
          1.3,
          1.1,
          0.9,
          1.8,
          1.4,
          1.1,
          2.4,
          1,
          1.2,
          0.5,
          0.8,
          1,
          1.2,
          1,
          1,
          1.7,
          1,
          0.8,
          0.7,
          1,
          0.7,
          1.4,
          1,
          1.2,
          0.9,
          1.83,
          1.7,
          0.9,
          1,
          1.6,
          0.9,
          1.2,
          0.7,
          1,
          0.8,
          1.1,
          1.1,
          0.7,
          1.3,
          1,
          2.7,
          3.8,
          1.1,
          0.8,
          1.2,
          1.7,
          1,
          1.1,
          0.9,
          0.8,
          1.4,
          1,
          0.9,
          1.1,
          1.2,
          0.8,
          1.4,
          1.6
         ],
         "xaxis": "x5",
         "xbins": {
          "end": 9.4,
          "size": 1,
          "start": 0.5
         },
         "yaxis": "y5"
        },
        {
         "autobinx": false,
         "histnorm": "probability density",
         "legendgroup": "serum_sodium",
         "marker": {
          "color": "rgb(31, 119, 180)"
         },
         "name": "serum_sodium",
         "opacity": 0.7,
         "type": "histogram",
         "x": [
          130,
          136,
          129,
          137,
          116,
          132,
          137,
          131,
          138,
          133,
          131,
          140,
          137,
          137,
          138,
          136,
          140,
          127,
          140,
          121,
          137,
          136,
          140,
          135,
          134,
          144,
          138,
          136,
          134,
          132,
          134,
          132,
          128,
          138,
          140,
          134,
          134,
          145,
          137,
          142,
          134,
          136,
          139,
          134,
          142,
          135,
          130,
          138,
          133,
          140,
          138,
          139,
          146,
          134,
          132,
          132,
          138,
          138,
          136,
          136,
          139,
          131,
          139,
          145,
          137,
          127,
          136,
          140,
          142,
          135,
          140,
          139,
          132,
          137,
          134,
          139,
          140,
          140,
          131,
          140,
          136,
          137,
          132,
          133,
          141,
          140,
          137,
          140,
          139,
          144,
          136,
          133,
          137,
          135,
          142,
          141,
          134,
          136,
          137,
          140,
          141,
          137,
          144,
          140,
          143,
          138,
          137,
          138,
          133,
          142,
          132,
          135,
          136,
          137,
          126,
          139,
          136,
          138,
          140,
          134,
          135,
          136,
          140,
          145,
          134,
          135,
          124,
          137,
          136,
          145,
          138,
          131,
          137,
          145,
          137,
          137,
          137,
          130,
          136,
          138,
          134,
          140,
          132,
          141,
          139,
          141,
          136,
          137,
          134,
          136,
          135,
          139,
          134,
          137,
          136,
          140,
          136,
          136,
          134,
          139,
          134,
          139,
          137,
          142,
          139,
          135,
          133,
          134,
          138,
          133,
          136,
          140,
          145,
          139,
          137,
          138,
          135,
          140,
          145,
          140,
          136,
          136,
          136,
          134,
          137,
          136,
          134,
          144,
          136,
          140,
          134,
          135,
          130,
          142,
          135,
          145,
          137,
          138,
          134,
          113,
          137,
          136,
          138,
          136,
          137,
          136,
          141,
          136,
          141,
          130,
          136,
          140,
          138,
          130,
          134,
          134,
          141,
          137,
          134,
          140,
          134,
          145,
          139,
          134,
          138,
          125,
          132,
          140,
          130,
          134,
          127,
          134,
          137,
          137,
          137,
          137,
          148,
          132,
          136,
          137,
          139,
          136,
          136,
          141,
          134,
          137,
          138,
          135,
          142,
          130,
          139,
          143,
          133,
          132,
          139,
          142,
          139,
          139,
          135,
          135,
          138,
          133,
          129,
          140,
          141,
          140,
          134,
          140,
          140,
          132,
          130,
          134,
          133,
          140,
          137,
          137,
          142,
          140,
          136,
          136,
          137,
          136,
          128,
          138,
          141,
          135,
          140,
          132,
          142,
          144,
          141,
          139,
          140,
          136,
          143,
          139,
          138,
          140,
          136
         ],
         "xaxis": "x6",
         "xbins": {
          "end": 148,
          "size": 1,
          "start": 113
         },
         "yaxis": "y6"
        }
       ],
       "layout": {
        "template": {
         "data": {
          "bar": [
           {
            "error_x": {
             "color": "#2a3f5f"
            },
            "error_y": {
             "color": "#2a3f5f"
            },
            "marker": {
             "line": {
              "color": "#E5ECF6",
              "width": 0.5
             },
             "pattern": {
              "fillmode": "overlay",
              "size": 10,
              "solidity": 0.2
             }
            },
            "type": "bar"
           }
          ],
          "barpolar": [
           {
            "marker": {
             "line": {
              "color": "#E5ECF6",
              "width": 0.5
             },
             "pattern": {
              "fillmode": "overlay",
              "size": 10,
              "solidity": 0.2
             }
            },
            "type": "barpolar"
           }
          ],
          "carpet": [
           {
            "aaxis": {
             "endlinecolor": "#2a3f5f",
             "gridcolor": "white",
             "linecolor": "white",
             "minorgridcolor": "white",
             "startlinecolor": "#2a3f5f"
            },
            "baxis": {
             "endlinecolor": "#2a3f5f",
             "gridcolor": "white",
             "linecolor": "white",
             "minorgridcolor": "white",
             "startlinecolor": "#2a3f5f"
            },
            "type": "carpet"
           }
          ],
          "choropleth": [
           {
            "colorbar": {
             "outlinewidth": 0,
             "ticks": ""
            },
            "type": "choropleth"
           }
          ],
          "contour": [
           {
            "colorbar": {
             "outlinewidth": 0,
             "ticks": ""
            },
            "colorscale": [
             [
              0,
              "#0d0887"
             ],
             [
              0.1111111111111111,
              "#46039f"
             ],
             [
              0.2222222222222222,
              "#7201a8"
             ],
             [
              0.3333333333333333,
              "#9c179e"
             ],
             [
              0.4444444444444444,
              "#bd3786"
             ],
             [
              0.5555555555555556,
              "#d8576b"
             ],
             [
              0.6666666666666666,
              "#ed7953"
             ],
             [
              0.7777777777777778,
              "#fb9f3a"
             ],
             [
              0.8888888888888888,
              "#fdca26"
             ],
             [
              1,
              "#f0f921"
             ]
            ],
            "type": "contour"
           }
          ],
          "contourcarpet": [
           {
            "colorbar": {
             "outlinewidth": 0,
             "ticks": ""
            },
            "type": "contourcarpet"
           }
          ],
          "heatmap": [
           {
            "colorbar": {
             "outlinewidth": 0,
             "ticks": ""
            },
            "colorscale": [
             [
              0,
              "#0d0887"
             ],
             [
              0.1111111111111111,
              "#46039f"
             ],
             [
              0.2222222222222222,
              "#7201a8"
             ],
             [
              0.3333333333333333,
              "#9c179e"
             ],
             [
              0.4444444444444444,
              "#bd3786"
             ],
             [
              0.5555555555555556,
              "#d8576b"
             ],
             [
              0.6666666666666666,
              "#ed7953"
             ],
             [
              0.7777777777777778,
              "#fb9f3a"
             ],
             [
              0.8888888888888888,
              "#fdca26"
             ],
             [
              1,
              "#f0f921"
             ]
            ],
            "type": "heatmap"
           }
          ],
          "heatmapgl": [
           {
            "colorbar": {
             "outlinewidth": 0,
             "ticks": ""
            },
            "colorscale": [
             [
              0,
              "#0d0887"
             ],
             [
              0.1111111111111111,
              "#46039f"
             ],
             [
              0.2222222222222222,
              "#7201a8"
             ],
             [
              0.3333333333333333,
              "#9c179e"
             ],
             [
              0.4444444444444444,
              "#bd3786"
             ],
             [
              0.5555555555555556,
              "#d8576b"
             ],
             [
              0.6666666666666666,
              "#ed7953"
             ],
             [
              0.7777777777777778,
              "#fb9f3a"
             ],
             [
              0.8888888888888888,
              "#fdca26"
             ],
             [
              1,
              "#f0f921"
             ]
            ],
            "type": "heatmapgl"
           }
          ],
          "histogram": [
           {
            "marker": {
             "pattern": {
              "fillmode": "overlay",
              "size": 10,
              "solidity": 0.2
             }
            },
            "type": "histogram"
           }
          ],
          "histogram2d": [
           {
            "colorbar": {
             "outlinewidth": 0,
             "ticks": ""
            },
            "colorscale": [
             [
              0,
              "#0d0887"
             ],
             [
              0.1111111111111111,
              "#46039f"
             ],
             [
              0.2222222222222222,
              "#7201a8"
             ],
             [
              0.3333333333333333,
              "#9c179e"
             ],
             [
              0.4444444444444444,
              "#bd3786"
             ],
             [
              0.5555555555555556,
              "#d8576b"
             ],
             [
              0.6666666666666666,
              "#ed7953"
             ],
             [
              0.7777777777777778,
              "#fb9f3a"
             ],
             [
              0.8888888888888888,
              "#fdca26"
             ],
             [
              1,
              "#f0f921"
             ]
            ],
            "type": "histogram2d"
           }
          ],
          "histogram2dcontour": [
           {
            "colorbar": {
             "outlinewidth": 0,
             "ticks": ""
            },
            "colorscale": [
             [
              0,
              "#0d0887"
             ],
             [
              0.1111111111111111,
              "#46039f"
             ],
             [
              0.2222222222222222,
              "#7201a8"
             ],
             [
              0.3333333333333333,
              "#9c179e"
             ],
             [
              0.4444444444444444,
              "#bd3786"
             ],
             [
              0.5555555555555556,
              "#d8576b"
             ],
             [
              0.6666666666666666,
              "#ed7953"
             ],
             [
              0.7777777777777778,
              "#fb9f3a"
             ],
             [
              0.8888888888888888,
              "#fdca26"
             ],
             [
              1,
              "#f0f921"
             ]
            ],
            "type": "histogram2dcontour"
           }
          ],
          "mesh3d": [
           {
            "colorbar": {
             "outlinewidth": 0,
             "ticks": ""
            },
            "type": "mesh3d"
           }
          ],
          "parcoords": [
           {
            "line": {
             "colorbar": {
              "outlinewidth": 0,
              "ticks": ""
             }
            },
            "type": "parcoords"
           }
          ],
          "pie": [
           {
            "automargin": true,
            "type": "pie"
           }
          ],
          "scatter": [
           {
            "fillpattern": {
             "fillmode": "overlay",
             "size": 10,
             "solidity": 0.2
            },
            "type": "scatter"
           }
          ],
          "scatter3d": [
           {
            "line": {
             "colorbar": {
              "outlinewidth": 0,
              "ticks": ""
             }
            },
            "marker": {
             "colorbar": {
              "outlinewidth": 0,
              "ticks": ""
             }
            },
            "type": "scatter3d"
           }
          ],
          "scattercarpet": [
           {
            "marker": {
             "colorbar": {
              "outlinewidth": 0,
              "ticks": ""
             }
            },
            "type": "scattercarpet"
           }
          ],
          "scattergeo": [
           {
            "marker": {
             "colorbar": {
              "outlinewidth": 0,
              "ticks": ""
             }
            },
            "type": "scattergeo"
           }
          ],
          "scattergl": [
           {
            "marker": {
             "colorbar": {
              "outlinewidth": 0,
              "ticks": ""
             }
            },
            "type": "scattergl"
           }
          ],
          "scattermapbox": [
           {
            "marker": {
             "colorbar": {
              "outlinewidth": 0,
              "ticks": ""
             }
            },
            "type": "scattermapbox"
           }
          ],
          "scatterpolar": [
           {
            "marker": {
             "colorbar": {
              "outlinewidth": 0,
              "ticks": ""
             }
            },
            "type": "scatterpolar"
           }
          ],
          "scatterpolargl": [
           {
            "marker": {
             "colorbar": {
              "outlinewidth": 0,
              "ticks": ""
             }
            },
            "type": "scatterpolargl"
           }
          ],
          "scatterternary": [
           {
            "marker": {
             "colorbar": {
              "outlinewidth": 0,
              "ticks": ""
             }
            },
            "type": "scatterternary"
           }
          ],
          "surface": [
           {
            "colorbar": {
             "outlinewidth": 0,
             "ticks": ""
            },
            "colorscale": [
             [
              0,
              "#0d0887"
             ],
             [
              0.1111111111111111,
              "#46039f"
             ],
             [
              0.2222222222222222,
              "#7201a8"
             ],
             [
              0.3333333333333333,
              "#9c179e"
             ],
             [
              0.4444444444444444,
              "#bd3786"
             ],
             [
              0.5555555555555556,
              "#d8576b"
             ],
             [
              0.6666666666666666,
              "#ed7953"
             ],
             [
              0.7777777777777778,
              "#fb9f3a"
             ],
             [
              0.8888888888888888,
              "#fdca26"
             ],
             [
              1,
              "#f0f921"
             ]
            ],
            "type": "surface"
           }
          ],
          "table": [
           {
            "cells": {
             "fill": {
              "color": "#EBF0F8"
             },
             "line": {
              "color": "white"
             }
            },
            "header": {
             "fill": {
              "color": "#C8D4E3"
             },
             "line": {
              "color": "white"
             }
            },
            "type": "table"
           }
          ]
         },
         "layout": {
          "annotationdefaults": {
           "arrowcolor": "#2a3f5f",
           "arrowhead": 0,
           "arrowwidth": 1
          },
          "autotypenumbers": "strict",
          "coloraxis": {
           "colorbar": {
            "outlinewidth": 0,
            "ticks": ""
           }
          },
          "colorscale": {
           "diverging": [
            [
             0,
             "#8e0152"
            ],
            [
             0.1,
             "#c51b7d"
            ],
            [
             0.2,
             "#de77ae"
            ],
            [
             0.3,
             "#f1b6da"
            ],
            [
             0.4,
             "#fde0ef"
            ],
            [
             0.5,
             "#f7f7f7"
            ],
            [
             0.6,
             "#e6f5d0"
            ],
            [
             0.7,
             "#b8e186"
            ],
            [
             0.8,
             "#7fbc41"
            ],
            [
             0.9,
             "#4d9221"
            ],
            [
             1,
             "#276419"
            ]
           ],
           "sequential": [
            [
             0,
             "#0d0887"
            ],
            [
             0.1111111111111111,
             "#46039f"
            ],
            [
             0.2222222222222222,
             "#7201a8"
            ],
            [
             0.3333333333333333,
             "#9c179e"
            ],
            [
             0.4444444444444444,
             "#bd3786"
            ],
            [
             0.5555555555555556,
             "#d8576b"
            ],
            [
             0.6666666666666666,
             "#ed7953"
            ],
            [
             0.7777777777777778,
             "#fb9f3a"
            ],
            [
             0.8888888888888888,
             "#fdca26"
            ],
            [
             1,
             "#f0f921"
            ]
           ],
           "sequentialminus": [
            [
             0,
             "#0d0887"
            ],
            [
             0.1111111111111111,
             "#46039f"
            ],
            [
             0.2222222222222222,
             "#7201a8"
            ],
            [
             0.3333333333333333,
             "#9c179e"
            ],
            [
             0.4444444444444444,
             "#bd3786"
            ],
            [
             0.5555555555555556,
             "#d8576b"
            ],
            [
             0.6666666666666666,
             "#ed7953"
            ],
            [
             0.7777777777777778,
             "#fb9f3a"
            ],
            [
             0.8888888888888888,
             "#fdca26"
            ],
            [
             1,
             "#f0f921"
            ]
           ]
          },
          "colorway": [
           "#636efa",
           "#EF553B",
           "#00cc96",
           "#ab63fa",
           "#FFA15A",
           "#19d3f3",
           "#FF6692",
           "#B6E880",
           "#FF97FF",
           "#FECB52"
          ],
          "font": {
           "color": "#2a3f5f"
          },
          "geo": {
           "bgcolor": "white",
           "lakecolor": "white",
           "landcolor": "#E5ECF6",
           "showlakes": true,
           "showland": true,
           "subunitcolor": "white"
          },
          "hoverlabel": {
           "align": "left"
          },
          "hovermode": "closest",
          "mapbox": {
           "style": "light"
          },
          "paper_bgcolor": "white",
          "plot_bgcolor": "#E5ECF6",
          "polar": {
           "angularaxis": {
            "gridcolor": "white",
            "linecolor": "white",
            "ticks": ""
           },
           "bgcolor": "#E5ECF6",
           "radialaxis": {
            "gridcolor": "white",
            "linecolor": "white",
            "ticks": ""
           }
          },
          "scene": {
           "xaxis": {
            "backgroundcolor": "#E5ECF6",
            "gridcolor": "white",
            "gridwidth": 2,
            "linecolor": "white",
            "showbackground": true,
            "ticks": "",
            "zerolinecolor": "white"
           },
           "yaxis": {
            "backgroundcolor": "#E5ECF6",
            "gridcolor": "white",
            "gridwidth": 2,
            "linecolor": "white",
            "showbackground": true,
            "ticks": "",
            "zerolinecolor": "white"
           },
           "zaxis": {
            "backgroundcolor": "#E5ECF6",
            "gridcolor": "white",
            "gridwidth": 2,
            "linecolor": "white",
            "showbackground": true,
            "ticks": "",
            "zerolinecolor": "white"
           }
          },
          "shapedefaults": {
           "line": {
            "color": "#2a3f5f"
           }
          },
          "ternary": {
           "aaxis": {
            "gridcolor": "white",
            "linecolor": "white",
            "ticks": ""
           },
           "baxis": {
            "gridcolor": "white",
            "linecolor": "white",
            "ticks": ""
           },
           "bgcolor": "#E5ECF6",
           "caxis": {
            "gridcolor": "white",
            "linecolor": "white",
            "ticks": ""
           }
          },
          "title": {
           "x": 0.05
          },
          "xaxis": {
           "automargin": true,
           "gridcolor": "white",
           "linecolor": "white",
           "ticks": "",
           "title": {
            "standoff": 15
           },
           "zerolinecolor": "white",
           "zerolinewidth": 2
          },
          "yaxis": {
           "automargin": true,
           "gridcolor": "white",
           "linecolor": "white",
           "ticks": "",
           "title": {
            "standoff": 15
           },
           "zerolinecolor": "white",
           "zerolinewidth": 2
          }
         }
        },
        "xaxis": {
         "anchor": "y",
         "domain": [
          0,
          0.45
         ]
        },
        "xaxis2": {
         "anchor": "y2",
         "domain": [
          0.55,
          1
         ]
        },
        "xaxis3": {
         "anchor": "y3",
         "domain": [
          0,
          0.45
         ]
        },
        "xaxis4": {
         "anchor": "y4",
         "domain": [
          0.55,
          1
         ]
        },
        "xaxis5": {
         "anchor": "y5",
         "domain": [
          0,
          0.45
         ]
        },
        "xaxis6": {
         "anchor": "y6",
         "domain": [
          0.55,
          1
         ]
        },
        "yaxis": {
         "anchor": "x",
         "domain": [
          0.7333333333333333,
          1
         ]
        },
        "yaxis2": {
         "anchor": "x2",
         "domain": [
          0.7333333333333333,
          1
         ]
        },
        "yaxis3": {
         "anchor": "x3",
         "domain": [
          0.36666666666666664,
          0.6333333333333333
         ]
        },
        "yaxis4": {
         "anchor": "x4",
         "domain": [
          0.36666666666666664,
          0.6333333333333333
         ]
        },
        "yaxis5": {
         "anchor": "x5",
         "domain": [
          0,
          0.26666666666666666
         ]
        },
        "yaxis6": {
         "anchor": "x6",
         "domain": [
          0,
          0.26666666666666666
         ]
        }
       }
      }
     },
     "metadata": {},
     "output_type": "display_data"
    }
   ],
   "source": [
    "# ploting grafhics of distribution numerical variables\n",
    "numerical_variables = df[['age','creatinine_phosphokinase','ejection_fraction','platelets','serum_creatinine','serum_sodium']]\n",
    "\n",
    "fig  = make_subplots(rows = 3, cols=2)\n",
    "rows = [1,1,2,2,3,3]\n",
    "cols = [1,2,1,2,1,2]\n",
    "\n",
    "def create_trace(df: pd.DataFrame):\n",
    "    list_traces = list()\n",
    "    for column in df.columns:\n",
    "        trace = ff.create_distplot([df[column]],group_labels=[column],show_rug=False)\n",
    "        list_traces.append(trace.data[0])\n",
    "    return list_traces\n",
    "\n",
    "traces = create_trace(numerical_variables)\n",
    "\n",
    "fig.add_traces(traces,rows=rows,cols=cols)\n",
    "fig.show()\n",
    "            "
   ]
  }
 ],
 "metadata": {
  "kernelspec": {
   "display_name": "prediction_heart_failure",
   "language": "python",
   "name": "python3"
  },
  "language_info": {
   "codemirror_mode": {
    "name": "ipython",
    "version": 3
   },
   "file_extension": ".py",
   "mimetype": "text/x-python",
   "name": "python",
   "nbconvert_exporter": "python",
   "pygments_lexer": "ipython3",
   "version": "3.12.2"
  }
 },
 "nbformat": 4,
 "nbformat_minor": 2
}
