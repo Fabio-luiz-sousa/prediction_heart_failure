{
 "cells": [
  {
   "cell_type": "markdown",
   "metadata": {},
   "source": [
    "<p align=\"center\" style=font-size:50px>Prediction Heart Failure</p>\n",
    "<p align=\"center\" style=font-size:30px>Modeling</p>\n",
    "<p align=\"center\">In this step, will be make a model of machine learning for classify if a person that had heart failure will survive or not.</p>"
   ]
  },
  {
   "cell_type": "markdown",
   "metadata": {},
   "source": [
    "### Description of problem\n",
    "\n",
    "A hospital wants to develop a machine learning model to predict whether or not a person with heart failure will survive during the patient's follow-up period. To develop this model, the hospital has a database that contains information on patients who had heart failure."
   ]
  },
  {
   "cell_type": "code",
   "execution_count": 1,
   "metadata": {},
   "outputs": [],
   "source": [
    "# import libraries\n",
    "import pandas as pd\n",
    "import numpy as np\n",
    "from sklearn.linear_model import LogisticRegression\n",
    "from sklearn.model_selection import train_test_split\n",
    "from sklearn.metrics import accuracy_score,confusion_matrix, roc_curve,roc_auc_score,precision_recall_curve,auc\n",
    "from sklearn.feature_selection import f_classif,SelectPercentile\n",
    "from sklearn.preprocessing import OneHotEncoder\n"
   ]
  },
  {
   "cell_type": "code",
   "execution_count": 2,
   "metadata": {},
   "outputs": [],
   "source": [
    "# load dataset\n",
    "df = pd.read_csv('../data/df_cleaned.csv')"
   ]
  },
  {
   "cell_type": "code",
   "execution_count": 3,
   "metadata": {},
   "outputs": [],
   "source": [
    "# Separating the features and response variable\n",
    "X = df.drop('DEATH_EVENT',axis=1).copy()\n",
    "y = df['DEATH_EVENT']"
   ]
  },
  {
   "cell_type": "code",
   "execution_count": 4,
   "metadata": {},
   "outputs": [],
   "source": [
    "# Separating in train and test\n",
    "X_train,X_test,y_train,y_test = train_test_split(X,y,test_size=0.2,random_state=24)"
   ]
  },
  {
   "cell_type": "code",
   "execution_count": 5,
   "metadata": {},
   "outputs": [],
   "source": [
    "#appling onehotencoding in the feature sex\n",
    "ohe = OneHotEncoder(sparse_output=False)\n",
    "\n",
    "X_train_encoded = ohe.fit_transform(X_train['sex'].values.reshape(-1,1))\n",
    "X_test_encoded = ohe.transform(X_test['sex'].values.reshape(-1,1))\n",
    "\n",
    "#convert arrays in dataframe\n",
    "X_train_encoded_df = pd.DataFrame(X_train_encoded,columns=ohe.get_feature_names_out())\n",
    "X_test_encoded_df = pd.DataFrame(X_test_encoded,columns=ohe.get_feature_names_out())\n",
    "\n",
    "#reset index od dataframes train and test\n",
    "X_train.reset_index(drop=True,inplace=True)\n",
    "X_test.reset_index(drop=True,inplace=True)\n",
    "\n",
    "# concating the columns encoded with the original dataframes\n",
    "X_train = pd.concat([X_train,X_train_encoded_df],axis=1)\n",
    "X_test = pd.concat([X_test,X_test_encoded_df],axis=1)\n"
   ]
  }
 ],
 "metadata": {
  "kernelspec": {
   "display_name": "prediction_heart_failure_venv",
   "language": "python",
   "name": "python3"
  },
  "language_info": {
   "codemirror_mode": {
    "name": "ipython",
    "version": 3
   },
   "file_extension": ".py",
   "mimetype": "text/x-python",
   "name": "python",
   "nbconvert_exporter": "python",
   "pygments_lexer": "ipython3",
   "version": "3.12.2"
  }
 },
 "nbformat": 4,
 "nbformat_minor": 2
}
